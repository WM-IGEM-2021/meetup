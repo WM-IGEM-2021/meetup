{
 "cells": [
  {
   "cell_type": "markdown",
   "metadata": {},
   "source": [
    "## Data Analysis Workshop"
   ]
  },
  {
   "cell_type": "markdown",
   "metadata": {},
   "source": [
    "### Why Python? \n",
    "\n",
    "- does anything excel can do and automates a good amount of it\n",
    "- can work with multiple files at once \n",
    "- streamlined analysis and plotting\n",
    "- can integrate with more complex modeling or analysis\n",
    "- friendlier than R, MATLAB, C, etc"
   ]
  },
  {
   "cell_type": "code",
   "execution_count": 1,
   "metadata": {},
   "outputs": [],
   "source": [
    "# importing modules\n",
    "import statistics          # base import command\n",
    "import statistics as stat  # make module easier to call\n",
    "import numpy as np\n",
    "import scipy as sp\n",
    "import pandas as pd\n",
    "import matplotlib.pyplot as plt"
   ]
  },
  {
   "cell_type": "markdown",
   "metadata": {},
   "source": [
    "### Assignment"
   ]
  },
  {
   "cell_type": "code",
   "execution_count": 2,
   "metadata": {},
   "outputs": [
    {
     "name": "stdout",
     "output_type": "stream",
     "text": [
      "1\n"
     ]
    }
   ],
   "source": [
    "a = 1\n",
    "print(a)"
   ]
  },
  {
   "cell_type": "code",
   "execution_count": 3,
   "metadata": {},
   "outputs": [
    {
     "name": "stdout",
     "output_type": "stream",
     "text": [
      "[4, 3, 6]\n"
     ]
    }
   ],
   "source": [
    "a = [4,3,6]\n",
    "print(a)"
   ]
  },
  {
   "cell_type": "code",
   "execution_count": 4,
   "metadata": {},
   "outputs": [
    {
     "data": {
      "text/plain": [
       "[7, 3, 7, 2, 6]"
      ]
     },
     "execution_count": 4,
     "metadata": {},
     "output_type": "execute_result"
    }
   ],
   "source": [
    "b = [7,3,7,2,6]\n",
    "b"
   ]
  },
  {
   "cell_type": "markdown",
   "metadata": {},
   "source": [
    "### Calling commands"
   ]
  },
  {
   "cell_type": "code",
   "execution_count": 5,
   "metadata": {},
   "outputs": [
    {
     "data": {
      "text/plain": [
       "13"
      ]
     },
     "execution_count": 5,
     "metadata": {},
     "output_type": "execute_result"
    }
   ],
   "source": [
    "sum(a)"
   ]
  },
  {
   "cell_type": "code",
   "execution_count": 6,
   "metadata": {},
   "outputs": [
    {
     "data": {
      "text/plain": [
       "13"
      ]
     },
     "execution_count": 6,
     "metadata": {},
     "output_type": "execute_result"
    }
   ],
   "source": [
    "c = sum(a)\n",
    "c"
   ]
  },
  {
   "cell_type": "code",
   "execution_count": 7,
   "metadata": {},
   "outputs": [
    {
     "data": {
      "text/plain": [
       "1.247219128924647"
      ]
     },
     "execution_count": 7,
     "metadata": {},
     "output_type": "execute_result"
    }
   ],
   "source": [
    "np.std(a)"
   ]
  },
  {
   "cell_type": "code",
   "execution_count": 8,
   "metadata": {},
   "outputs": [
    {
     "name": "stdout",
     "output_type": "stream",
     "text": [
      "[4, 3, 6, 7]\n",
      "[4, 3, 6]\n"
     ]
    }
   ],
   "source": [
    "a.append(7)\n",
    "print(a)\n",
    "\n",
    "a.pop()\n",
    "print(a)"
   ]
  },
  {
   "cell_type": "markdown",
   "metadata": {},
   "source": [
    "### Data analysis! "
   ]
  },
  {
   "cell_type": "code",
   "execution_count": 23,
   "metadata": {},
   "outputs": [],
   "source": [
    "# load in files for cute little dataset correlating yawn duration and neuron count\n",
    "# syntax: name = pd.read_filetype(filepath/filename)\n",
    "bird   = pd.read_csv('bird_individualdata.csv', sep = ',', encoding='latin-1')\n",
    "mammal = pd.read_csv('mammal_individualdata.csv', sep = ',', encoding='latin-1')"
   ]
  },
  {
   "cell_type": "code",
   "execution_count": 24,
   "metadata": {},
   "outputs": [
    {
     "data": {
      "text/html": [
       "<div>\n",
       "<style scoped>\n",
       "    .dataframe tbody tr th:only-of-type {\n",
       "        vertical-align: middle;\n",
       "    }\n",
       "\n",
       "    .dataframe tbody tr th {\n",
       "        vertical-align: top;\n",
       "    }\n",
       "\n",
       "    .dataframe thead th {\n",
       "        text-align: right;\n",
       "    }\n",
       "</style>\n",
       "<table border=\"1\" class=\"dataframe\">\n",
       "  <thead>\n",
       "    <tr style=\"text-align: right;\">\n",
       "      <th></th>\n",
       "      <th>Common_name</th>\n",
       "      <th>Species</th>\n",
       "      <th>Individual</th>\n",
       "      <th>Order</th>\n",
       "      <th>Class</th>\n",
       "      <th>YD</th>\n",
       "      <th>BodyW</th>\n",
       "      <th>BrainW</th>\n",
       "      <th>NN</th>\n",
       "      <th>PallCortN</th>\n",
       "    </tr>\n",
       "  </thead>\n",
       "  <tbody>\n",
       "    <tr>\n",
       "      <th>0</th>\n",
       "      <td>Alexandrine parakeet</td>\n",
       "      <td>Psittacula_eupatria</td>\n",
       "      <td>ap1</td>\n",
       "      <td>Psittaciformes</td>\n",
       "      <td>Birds</td>\n",
       "      <td>1.55</td>\n",
       "      <td>214.0</td>\n",
       "      <td>5.73944</td>\n",
       "      <td>1096.26</td>\n",
       "      <td>574.65</td>\n",
       "    </tr>\n",
       "    <tr>\n",
       "      <th>1</th>\n",
       "      <td>Alexandrine parakeet</td>\n",
       "      <td>Psittacula_eupatria</td>\n",
       "      <td>ap1</td>\n",
       "      <td>Psittaciformes</td>\n",
       "      <td>Birds</td>\n",
       "      <td>1.09</td>\n",
       "      <td>214.0</td>\n",
       "      <td>5.73944</td>\n",
       "      <td>1096.26</td>\n",
       "      <td>574.65</td>\n",
       "    </tr>\n",
       "    <tr>\n",
       "      <th>2</th>\n",
       "      <td>Alexandrine parakeet</td>\n",
       "      <td>Psittacula_eupatria</td>\n",
       "      <td>ap1</td>\n",
       "      <td>Psittaciformes</td>\n",
       "      <td>Birds</td>\n",
       "      <td>1.40</td>\n",
       "      <td>214.0</td>\n",
       "      <td>5.73944</td>\n",
       "      <td>1096.26</td>\n",
       "      <td>574.65</td>\n",
       "    </tr>\n",
       "    <tr>\n",
       "      <th>3</th>\n",
       "      <td>Alexandrine parakeet</td>\n",
       "      <td>Psittacula_eupatria</td>\n",
       "      <td>ap1</td>\n",
       "      <td>Psittaciformes</td>\n",
       "      <td>Birds</td>\n",
       "      <td>1.38</td>\n",
       "      <td>214.0</td>\n",
       "      <td>5.73944</td>\n",
       "      <td>1096.26</td>\n",
       "      <td>574.65</td>\n",
       "    </tr>\n",
       "    <tr>\n",
       "      <th>4</th>\n",
       "      <td>Alexandrine parakeet</td>\n",
       "      <td>Psittacula_eupatria</td>\n",
       "      <td>ap1</td>\n",
       "      <td>Psittaciformes</td>\n",
       "      <td>Birds</td>\n",
       "      <td>1.17</td>\n",
       "      <td>214.0</td>\n",
       "      <td>5.73944</td>\n",
       "      <td>1096.26</td>\n",
       "      <td>574.65</td>\n",
       "    </tr>\n",
       "    <tr>\n",
       "      <th>...</th>\n",
       "      <td>...</td>\n",
       "      <td>...</td>\n",
       "      <td>...</td>\n",
       "      <td>...</td>\n",
       "      <td>...</td>\n",
       "      <td>...</td>\n",
       "      <td>...</td>\n",
       "      <td>...</td>\n",
       "      <td>...</td>\n",
       "      <td>...</td>\n",
       "    </tr>\n",
       "    <tr>\n",
       "      <th>664</th>\n",
       "      <td>Zebra finch</td>\n",
       "      <td>Taeniopygia_guttata</td>\n",
       "      <td>zfv_s</td>\n",
       "      <td>Passeriformes</td>\n",
       "      <td>Birds</td>\n",
       "      <td>0.72</td>\n",
       "      <td>11.5</td>\n",
       "      <td>0.45584</td>\n",
       "      <td>135.98</td>\n",
       "      <td>55.23</td>\n",
       "    </tr>\n",
       "    <tr>\n",
       "      <th>665</th>\n",
       "      <td>Zebra finch</td>\n",
       "      <td>Taeniopygia_guttata</td>\n",
       "      <td>zfv_s</td>\n",
       "      <td>Passeriformes</td>\n",
       "      <td>Birds</td>\n",
       "      <td>1.08</td>\n",
       "      <td>11.5</td>\n",
       "      <td>0.45584</td>\n",
       "      <td>135.98</td>\n",
       "      <td>55.23</td>\n",
       "    </tr>\n",
       "    <tr>\n",
       "      <th>666</th>\n",
       "      <td>Zebra finch</td>\n",
       "      <td>Taeniopygia_guttata</td>\n",
       "      <td>zfv_s</td>\n",
       "      <td>Passeriformes</td>\n",
       "      <td>Birds</td>\n",
       "      <td>1.16</td>\n",
       "      <td>11.5</td>\n",
       "      <td>0.45584</td>\n",
       "      <td>135.98</td>\n",
       "      <td>55.23</td>\n",
       "    </tr>\n",
       "    <tr>\n",
       "      <th>667</th>\n",
       "      <td>Zebra finch</td>\n",
       "      <td>Taeniopygia_guttata</td>\n",
       "      <td>zfv_s</td>\n",
       "      <td>Passeriformes</td>\n",
       "      <td>Birds</td>\n",
       "      <td>1.00</td>\n",
       "      <td>11.5</td>\n",
       "      <td>0.45584</td>\n",
       "      <td>135.98</td>\n",
       "      <td>55.23</td>\n",
       "    </tr>\n",
       "    <tr>\n",
       "      <th>668</th>\n",
       "      <td>Zebra finch</td>\n",
       "      <td>Taeniopygia_guttata</td>\n",
       "      <td>zfv_s</td>\n",
       "      <td>Passeriformes</td>\n",
       "      <td>Birds</td>\n",
       "      <td>0.76</td>\n",
       "      <td>11.5</td>\n",
       "      <td>0.45584</td>\n",
       "      <td>135.98</td>\n",
       "      <td>55.23</td>\n",
       "    </tr>\n",
       "  </tbody>\n",
       "</table>\n",
       "<p>669 rows × 10 columns</p>\n",
       "</div>"
      ],
      "text/plain": [
       "              Common_name              Species Individual           Order  \\\n",
       "0    Alexandrine parakeet  Psittacula_eupatria        ap1  Psittaciformes   \n",
       "1    Alexandrine parakeet  Psittacula_eupatria        ap1  Psittaciformes   \n",
       "2    Alexandrine parakeet  Psittacula_eupatria        ap1  Psittaciformes   \n",
       "3    Alexandrine parakeet  Psittacula_eupatria        ap1  Psittaciformes   \n",
       "4    Alexandrine parakeet  Psittacula_eupatria        ap1  Psittaciformes   \n",
       "..                    ...                  ...        ...             ...   \n",
       "664           Zebra finch  Taeniopygia_guttata      zfv_s   Passeriformes   \n",
       "665           Zebra finch  Taeniopygia_guttata      zfv_s   Passeriformes   \n",
       "666           Zebra finch  Taeniopygia_guttata      zfv_s   Passeriformes   \n",
       "667           Zebra finch  Taeniopygia_guttata      zfv_s   Passeriformes   \n",
       "668           Zebra finch  Taeniopygia_guttata      zfv_s   Passeriformes   \n",
       "\n",
       "     Class    YD  BodyW   BrainW       NN  PallCortN  \n",
       "0    Birds  1.55  214.0  5.73944  1096.26     574.65  \n",
       "1    Birds  1.09  214.0  5.73944  1096.26     574.65  \n",
       "2    Birds  1.40  214.0  5.73944  1096.26     574.65  \n",
       "3    Birds  1.38  214.0  5.73944  1096.26     574.65  \n",
       "4    Birds  1.17  214.0  5.73944  1096.26     574.65  \n",
       "..     ...   ...    ...      ...      ...        ...  \n",
       "664  Birds  0.72   11.5  0.45584   135.98      55.23  \n",
       "665  Birds  1.08   11.5  0.45584   135.98      55.23  \n",
       "666  Birds  1.16   11.5  0.45584   135.98      55.23  \n",
       "667  Birds  1.00   11.5  0.45584   135.98      55.23  \n",
       "668  Birds  0.76   11.5  0.45584   135.98      55.23  \n",
       "\n",
       "[669 rows x 10 columns]"
      ]
     },
     "execution_count": 24,
     "metadata": {},
     "output_type": "execute_result"
    }
   ],
   "source": [
    "bird"
   ]
  },
  {
   "cell_type": "code",
   "execution_count": 25,
   "metadata": {},
   "outputs": [
    {
     "data": {
      "text/html": [
       "<div>\n",
       "<style scoped>\n",
       "    .dataframe tbody tr th:only-of-type {\n",
       "        vertical-align: middle;\n",
       "    }\n",
       "\n",
       "    .dataframe tbody tr th {\n",
       "        vertical-align: top;\n",
       "    }\n",
       "\n",
       "    .dataframe thead th {\n",
       "        text-align: right;\n",
       "    }\n",
       "</style>\n",
       "<table border=\"1\" class=\"dataframe\">\n",
       "  <thead>\n",
       "    <tr style=\"text-align: right;\">\n",
       "      <th></th>\n",
       "      <th>Common_name</th>\n",
       "      <th>Species</th>\n",
       "      <th>Individual</th>\n",
       "      <th>Order</th>\n",
       "      <th>Class</th>\n",
       "      <th>YD</th>\n",
       "      <th>BodyW</th>\n",
       "      <th>BrainW</th>\n",
       "      <th>NN</th>\n",
       "      <th>PallCortN</th>\n",
       "    </tr>\n",
       "  </thead>\n",
       "  <tbody>\n",
       "    <tr>\n",
       "      <th>0</th>\n",
       "      <td>Bactrian Camel</td>\n",
       "      <td>Camelus_bactrianus</td>\n",
       "      <td>camel1</td>\n",
       "      <td>Artiodactyla</td>\n",
       "      <td>Mammals</td>\n",
       "      <td>7.48</td>\n",
       "      <td>549000.0</td>\n",
       "      <td>601.0</td>\n",
       "      <td>NaN</td>\n",
       "      <td>NaN</td>\n",
       "    </tr>\n",
       "    <tr>\n",
       "      <th>1</th>\n",
       "      <td>Bactrian Camel</td>\n",
       "      <td>Camelus_bactrianus</td>\n",
       "      <td>camel1</td>\n",
       "      <td>Artiodactyla</td>\n",
       "      <td>Mammals</td>\n",
       "      <td>6.27</td>\n",
       "      <td>549000.0</td>\n",
       "      <td>601.0</td>\n",
       "      <td>NaN</td>\n",
       "      <td>NaN</td>\n",
       "    </tr>\n",
       "    <tr>\n",
       "      <th>2</th>\n",
       "      <td>Bactrian Camel</td>\n",
       "      <td>Camelus_bactrianus</td>\n",
       "      <td>camel2</td>\n",
       "      <td>Artiodactyla</td>\n",
       "      <td>Mammals</td>\n",
       "      <td>4.81</td>\n",
       "      <td>549000.0</td>\n",
       "      <td>601.0</td>\n",
       "      <td>NaN</td>\n",
       "      <td>NaN</td>\n",
       "    </tr>\n",
       "    <tr>\n",
       "      <th>3</th>\n",
       "      <td>Bactrian Camel</td>\n",
       "      <td>Camelus_bactrianus</td>\n",
       "      <td>camel3</td>\n",
       "      <td>Artiodactyla</td>\n",
       "      <td>Mammals</td>\n",
       "      <td>8.09</td>\n",
       "      <td>549000.0</td>\n",
       "      <td>601.0</td>\n",
       "      <td>NaN</td>\n",
       "      <td>NaN</td>\n",
       "    </tr>\n",
       "    <tr>\n",
       "      <th>4</th>\n",
       "      <td>Banded mongoose</td>\n",
       "      <td>Mungos_mungo</td>\n",
       "      <td>bm1</td>\n",
       "      <td>Carnivora</td>\n",
       "      <td>Mammals</td>\n",
       "      <td>1.87</td>\n",
       "      <td>1170.0</td>\n",
       "      <td>10.7</td>\n",
       "      <td>454.02</td>\n",
       "      <td>115.77</td>\n",
       "    </tr>\n",
       "    <tr>\n",
       "      <th>...</th>\n",
       "      <td>...</td>\n",
       "      <td>...</td>\n",
       "      <td>...</td>\n",
       "      <td>...</td>\n",
       "      <td>...</td>\n",
       "      <td>...</td>\n",
       "      <td>...</td>\n",
       "      <td>...</td>\n",
       "      <td>...</td>\n",
       "      <td>...</td>\n",
       "    </tr>\n",
       "    <tr>\n",
       "      <th>617</th>\n",
       "      <td>Wild cat</td>\n",
       "      <td>Felis_silvestris</td>\n",
       "      <td>wcfrieda</td>\n",
       "      <td>Carnivora</td>\n",
       "      <td>Mammals</td>\n",
       "      <td>2.66</td>\n",
       "      <td>3850.0</td>\n",
       "      <td>37.5</td>\n",
       "      <td>NaN</td>\n",
       "      <td>NaN</td>\n",
       "    </tr>\n",
       "    <tr>\n",
       "      <th>618</th>\n",
       "      <td>wolf</td>\n",
       "      <td>Canis_lupus</td>\n",
       "      <td>wolf1</td>\n",
       "      <td>Carnivora</td>\n",
       "      <td>Mammals</td>\n",
       "      <td>2.88</td>\n",
       "      <td>28700.0</td>\n",
       "      <td>138.0</td>\n",
       "      <td>NaN</td>\n",
       "      <td>NaN</td>\n",
       "    </tr>\n",
       "    <tr>\n",
       "      <th>619</th>\n",
       "      <td>wolf</td>\n",
       "      <td>Canis_lupus</td>\n",
       "      <td>wolf2</td>\n",
       "      <td>Carnivora</td>\n",
       "      <td>Mammals</td>\n",
       "      <td>4.69</td>\n",
       "      <td>28700.0</td>\n",
       "      <td>138.0</td>\n",
       "      <td>NaN</td>\n",
       "      <td>NaN</td>\n",
       "    </tr>\n",
       "    <tr>\n",
       "      <th>620</th>\n",
       "      <td>wolf</td>\n",
       "      <td>Canis_lupus</td>\n",
       "      <td>wolf3</td>\n",
       "      <td>Carnivora</td>\n",
       "      <td>Mammals</td>\n",
       "      <td>1.92</td>\n",
       "      <td>28700.0</td>\n",
       "      <td>138.0</td>\n",
       "      <td>NaN</td>\n",
       "      <td>NaN</td>\n",
       "    </tr>\n",
       "    <tr>\n",
       "      <th>621</th>\n",
       "      <td>wolf</td>\n",
       "      <td>Canis_lupus</td>\n",
       "      <td>wolf4</td>\n",
       "      <td>Carnivora</td>\n",
       "      <td>Mammals</td>\n",
       "      <td>3.10</td>\n",
       "      <td>28700.0</td>\n",
       "      <td>138.0</td>\n",
       "      <td>NaN</td>\n",
       "      <td>NaN</td>\n",
       "    </tr>\n",
       "  </tbody>\n",
       "</table>\n",
       "<p>622 rows × 10 columns</p>\n",
       "</div>"
      ],
      "text/plain": [
       "         Common_name             Species Individual         Order    Class  \\\n",
       "0     Bactrian Camel  Camelus_bactrianus     camel1  Artiodactyla  Mammals   \n",
       "1     Bactrian Camel  Camelus_bactrianus     camel1  Artiodactyla  Mammals   \n",
       "2     Bactrian Camel  Camelus_bactrianus     camel2  Artiodactyla  Mammals   \n",
       "3     Bactrian Camel  Camelus_bactrianus     camel3  Artiodactyla  Mammals   \n",
       "4    Banded mongoose        Mungos_mungo        bm1     Carnivora  Mammals   \n",
       "..               ...                 ...        ...           ...      ...   \n",
       "617         Wild cat    Felis_silvestris   wcfrieda     Carnivora  Mammals   \n",
       "618             wolf         Canis_lupus      wolf1     Carnivora  Mammals   \n",
       "619             wolf         Canis_lupus      wolf2     Carnivora  Mammals   \n",
       "620             wolf         Canis_lupus      wolf3     Carnivora  Mammals   \n",
       "621             wolf         Canis_lupus      wolf4     Carnivora  Mammals   \n",
       "\n",
       "       YD     BodyW  BrainW      NN  PallCortN  \n",
       "0    7.48  549000.0   601.0     NaN        NaN  \n",
       "1    6.27  549000.0   601.0     NaN        NaN  \n",
       "2    4.81  549000.0   601.0     NaN        NaN  \n",
       "3    8.09  549000.0   601.0     NaN        NaN  \n",
       "4    1.87    1170.0    10.7  454.02     115.77  \n",
       "..    ...       ...     ...     ...        ...  \n",
       "617  2.66    3850.0    37.5     NaN        NaN  \n",
       "618  2.88   28700.0   138.0     NaN        NaN  \n",
       "619  4.69   28700.0   138.0     NaN        NaN  \n",
       "620  1.92   28700.0   138.0     NaN        NaN  \n",
       "621  3.10   28700.0   138.0     NaN        NaN  \n",
       "\n",
       "[622 rows x 10 columns]"
      ]
     },
     "execution_count": 25,
     "metadata": {},
     "output_type": "execute_result"
    }
   ],
   "source": [
    "mammal"
   ]
  },
  {
   "cell_type": "code",
   "execution_count": 26,
   "metadata": {},
   "outputs": [
    {
     "data": {
      "text/plain": [
       "Index(['Common_name', 'Species', 'Individual', 'Order', 'Class', 'YD', 'BodyW',\n",
       "       'BrainW', 'NN', 'PallCortN'],\n",
       "      dtype='object')"
      ]
     },
     "execution_count": 26,
     "metadata": {},
     "output_type": "execute_result"
    }
   ],
   "source": [
    "# view all column names\n",
    "bird.columns"
   ]
  },
  {
   "cell_type": "code",
   "execution_count": 27,
   "metadata": {},
   "outputs": [
    {
     "data": {
      "text/html": [
       "<div>\n",
       "<style scoped>\n",
       "    .dataframe tbody tr th:only-of-type {\n",
       "        vertical-align: middle;\n",
       "    }\n",
       "\n",
       "    .dataframe tbody tr th {\n",
       "        vertical-align: top;\n",
       "    }\n",
       "\n",
       "    .dataframe thead th {\n",
       "        text-align: right;\n",
       "    }\n",
       "</style>\n",
       "<table border=\"1\" class=\"dataframe\">\n",
       "  <thead>\n",
       "    <tr style=\"text-align: right;\">\n",
       "      <th></th>\n",
       "      <th>Common_name</th>\n",
       "      <th>Species</th>\n",
       "      <th>Individual</th>\n",
       "      <th>Order</th>\n",
       "      <th>Class</th>\n",
       "      <th>YD</th>\n",
       "      <th>BodyW</th>\n",
       "      <th>BrainW</th>\n",
       "      <th>NN</th>\n",
       "      <th>PallCortN</th>\n",
       "    </tr>\n",
       "  </thead>\n",
       "  <tbody>\n",
       "    <tr>\n",
       "      <th>0</th>\n",
       "      <td>Alexandrine parakeet</td>\n",
       "      <td>Psittacula_eupatria</td>\n",
       "      <td>ap1</td>\n",
       "      <td>Psittaciformes</td>\n",
       "      <td>Birds</td>\n",
       "      <td>1.55</td>\n",
       "      <td>214.0</td>\n",
       "      <td>5.73944</td>\n",
       "      <td>1096.26</td>\n",
       "      <td>574.65</td>\n",
       "    </tr>\n",
       "    <tr>\n",
       "      <th>1</th>\n",
       "      <td>Alexandrine parakeet</td>\n",
       "      <td>Psittacula_eupatria</td>\n",
       "      <td>ap1</td>\n",
       "      <td>Psittaciformes</td>\n",
       "      <td>Birds</td>\n",
       "      <td>1.09</td>\n",
       "      <td>214.0</td>\n",
       "      <td>5.73944</td>\n",
       "      <td>1096.26</td>\n",
       "      <td>574.65</td>\n",
       "    </tr>\n",
       "    <tr>\n",
       "      <th>2</th>\n",
       "      <td>Alexandrine parakeet</td>\n",
       "      <td>Psittacula_eupatria</td>\n",
       "      <td>ap1</td>\n",
       "      <td>Psittaciformes</td>\n",
       "      <td>Birds</td>\n",
       "      <td>1.40</td>\n",
       "      <td>214.0</td>\n",
       "      <td>5.73944</td>\n",
       "      <td>1096.26</td>\n",
       "      <td>574.65</td>\n",
       "    </tr>\n",
       "    <tr>\n",
       "      <th>3</th>\n",
       "      <td>Alexandrine parakeet</td>\n",
       "      <td>Psittacula_eupatria</td>\n",
       "      <td>ap1</td>\n",
       "      <td>Psittaciformes</td>\n",
       "      <td>Birds</td>\n",
       "      <td>1.38</td>\n",
       "      <td>214.0</td>\n",
       "      <td>5.73944</td>\n",
       "      <td>1096.26</td>\n",
       "      <td>574.65</td>\n",
       "    </tr>\n",
       "    <tr>\n",
       "      <th>4</th>\n",
       "      <td>Alexandrine parakeet</td>\n",
       "      <td>Psittacula_eupatria</td>\n",
       "      <td>ap1</td>\n",
       "      <td>Psittaciformes</td>\n",
       "      <td>Birds</td>\n",
       "      <td>1.17</td>\n",
       "      <td>214.0</td>\n",
       "      <td>5.73944</td>\n",
       "      <td>1096.26</td>\n",
       "      <td>574.65</td>\n",
       "    </tr>\n",
       "  </tbody>\n",
       "</table>\n",
       "</div>"
      ],
      "text/plain": [
       "            Common_name              Species Individual           Order  \\\n",
       "0  Alexandrine parakeet  Psittacula_eupatria        ap1  Psittaciformes   \n",
       "1  Alexandrine parakeet  Psittacula_eupatria        ap1  Psittaciformes   \n",
       "2  Alexandrine parakeet  Psittacula_eupatria        ap1  Psittaciformes   \n",
       "3  Alexandrine parakeet  Psittacula_eupatria        ap1  Psittaciformes   \n",
       "4  Alexandrine parakeet  Psittacula_eupatria        ap1  Psittaciformes   \n",
       "\n",
       "   Class    YD  BodyW   BrainW       NN  PallCortN  \n",
       "0  Birds  1.55  214.0  5.73944  1096.26     574.65  \n",
       "1  Birds  1.09  214.0  5.73944  1096.26     574.65  \n",
       "2  Birds  1.40  214.0  5.73944  1096.26     574.65  \n",
       "3  Birds  1.38  214.0  5.73944  1096.26     574.65  \n",
       "4  Birds  1.17  214.0  5.73944  1096.26     574.65  "
      ]
     },
     "execution_count": 27,
     "metadata": {},
     "output_type": "execute_result"
    }
   ],
   "source": [
    "# first 5 entries\n",
    "bird.head(5)"
   ]
  },
  {
   "cell_type": "code",
   "execution_count": 28,
   "metadata": {},
   "outputs": [
    {
     "data": {
      "text/html": [
       "<div>\n",
       "<style scoped>\n",
       "    .dataframe tbody tr th:only-of-type {\n",
       "        vertical-align: middle;\n",
       "    }\n",
       "\n",
       "    .dataframe tbody tr th {\n",
       "        vertical-align: top;\n",
       "    }\n",
       "\n",
       "    .dataframe thead th {\n",
       "        text-align: right;\n",
       "    }\n",
       "</style>\n",
       "<table border=\"1\" class=\"dataframe\">\n",
       "  <thead>\n",
       "    <tr style=\"text-align: right;\">\n",
       "      <th></th>\n",
       "      <th>Common_name</th>\n",
       "      <th>Species</th>\n",
       "      <th>Individual</th>\n",
       "      <th>Order</th>\n",
       "      <th>Class</th>\n",
       "      <th>YD</th>\n",
       "      <th>BodyW</th>\n",
       "      <th>BrainW</th>\n",
       "      <th>NN</th>\n",
       "      <th>PallCortN</th>\n",
       "    </tr>\n",
       "  </thead>\n",
       "  <tbody>\n",
       "    <tr>\n",
       "      <th>664</th>\n",
       "      <td>Zebra finch</td>\n",
       "      <td>Taeniopygia_guttata</td>\n",
       "      <td>zfv_s</td>\n",
       "      <td>Passeriformes</td>\n",
       "      <td>Birds</td>\n",
       "      <td>0.72</td>\n",
       "      <td>11.5</td>\n",
       "      <td>0.45584</td>\n",
       "      <td>135.98</td>\n",
       "      <td>55.23</td>\n",
       "    </tr>\n",
       "    <tr>\n",
       "      <th>665</th>\n",
       "      <td>Zebra finch</td>\n",
       "      <td>Taeniopygia_guttata</td>\n",
       "      <td>zfv_s</td>\n",
       "      <td>Passeriformes</td>\n",
       "      <td>Birds</td>\n",
       "      <td>1.08</td>\n",
       "      <td>11.5</td>\n",
       "      <td>0.45584</td>\n",
       "      <td>135.98</td>\n",
       "      <td>55.23</td>\n",
       "    </tr>\n",
       "    <tr>\n",
       "      <th>666</th>\n",
       "      <td>Zebra finch</td>\n",
       "      <td>Taeniopygia_guttata</td>\n",
       "      <td>zfv_s</td>\n",
       "      <td>Passeriformes</td>\n",
       "      <td>Birds</td>\n",
       "      <td>1.16</td>\n",
       "      <td>11.5</td>\n",
       "      <td>0.45584</td>\n",
       "      <td>135.98</td>\n",
       "      <td>55.23</td>\n",
       "    </tr>\n",
       "    <tr>\n",
       "      <th>667</th>\n",
       "      <td>Zebra finch</td>\n",
       "      <td>Taeniopygia_guttata</td>\n",
       "      <td>zfv_s</td>\n",
       "      <td>Passeriformes</td>\n",
       "      <td>Birds</td>\n",
       "      <td>1.00</td>\n",
       "      <td>11.5</td>\n",
       "      <td>0.45584</td>\n",
       "      <td>135.98</td>\n",
       "      <td>55.23</td>\n",
       "    </tr>\n",
       "    <tr>\n",
       "      <th>668</th>\n",
       "      <td>Zebra finch</td>\n",
       "      <td>Taeniopygia_guttata</td>\n",
       "      <td>zfv_s</td>\n",
       "      <td>Passeriformes</td>\n",
       "      <td>Birds</td>\n",
       "      <td>0.76</td>\n",
       "      <td>11.5</td>\n",
       "      <td>0.45584</td>\n",
       "      <td>135.98</td>\n",
       "      <td>55.23</td>\n",
       "    </tr>\n",
       "  </tbody>\n",
       "</table>\n",
       "</div>"
      ],
      "text/plain": [
       "     Common_name              Species Individual          Order  Class    YD  \\\n",
       "664  Zebra finch  Taeniopygia_guttata      zfv_s  Passeriformes  Birds  0.72   \n",
       "665  Zebra finch  Taeniopygia_guttata      zfv_s  Passeriformes  Birds  1.08   \n",
       "666  Zebra finch  Taeniopygia_guttata      zfv_s  Passeriformes  Birds  1.16   \n",
       "667  Zebra finch  Taeniopygia_guttata      zfv_s  Passeriformes  Birds  1.00   \n",
       "668  Zebra finch  Taeniopygia_guttata      zfv_s  Passeriformes  Birds  0.76   \n",
       "\n",
       "     BodyW   BrainW      NN  PallCortN  \n",
       "664   11.5  0.45584  135.98      55.23  \n",
       "665   11.5  0.45584  135.98      55.23  \n",
       "666   11.5  0.45584  135.98      55.23  \n",
       "667   11.5  0.45584  135.98      55.23  \n",
       "668   11.5  0.45584  135.98      55.23  "
      ]
     },
     "execution_count": 28,
     "metadata": {},
     "output_type": "execute_result"
    }
   ],
   "source": [
    "# last 5 entries\n",
    "bird.tail(5)"
   ]
  },
  {
   "cell_type": "code",
   "execution_count": 29,
   "metadata": {},
   "outputs": [
    {
     "data": {
      "text/html": [
       "<div>\n",
       "<style scoped>\n",
       "    .dataframe tbody tr th:only-of-type {\n",
       "        vertical-align: middle;\n",
       "    }\n",
       "\n",
       "    .dataframe tbody tr th {\n",
       "        vertical-align: top;\n",
       "    }\n",
       "\n",
       "    .dataframe thead th {\n",
       "        text-align: right;\n",
       "    }\n",
       "</style>\n",
       "<table border=\"1\" class=\"dataframe\">\n",
       "  <thead>\n",
       "    <tr style=\"text-align: right;\">\n",
       "      <th></th>\n",
       "      <th>Species</th>\n",
       "      <th>YD</th>\n",
       "      <th>BrainW</th>\n",
       "      <th>NN</th>\n",
       "    </tr>\n",
       "  </thead>\n",
       "  <tbody>\n",
       "    <tr>\n",
       "      <th>0</th>\n",
       "      <td>Psittacula_eupatria</td>\n",
       "      <td>1.55</td>\n",
       "      <td>5.73944</td>\n",
       "      <td>1096.26</td>\n",
       "    </tr>\n",
       "    <tr>\n",
       "      <th>1</th>\n",
       "      <td>Psittacula_eupatria</td>\n",
       "      <td>1.09</td>\n",
       "      <td>5.73944</td>\n",
       "      <td>1096.26</td>\n",
       "    </tr>\n",
       "    <tr>\n",
       "      <th>2</th>\n",
       "      <td>Psittacula_eupatria</td>\n",
       "      <td>1.40</td>\n",
       "      <td>5.73944</td>\n",
       "      <td>1096.26</td>\n",
       "    </tr>\n",
       "    <tr>\n",
       "      <th>3</th>\n",
       "      <td>Psittacula_eupatria</td>\n",
       "      <td>1.38</td>\n",
       "      <td>5.73944</td>\n",
       "      <td>1096.26</td>\n",
       "    </tr>\n",
       "    <tr>\n",
       "      <th>4</th>\n",
       "      <td>Psittacula_eupatria</td>\n",
       "      <td>1.17</td>\n",
       "      <td>5.73944</td>\n",
       "      <td>1096.26</td>\n",
       "    </tr>\n",
       "    <tr>\n",
       "      <th>...</th>\n",
       "      <td>...</td>\n",
       "      <td>...</td>\n",
       "      <td>...</td>\n",
       "      <td>...</td>\n",
       "    </tr>\n",
       "    <tr>\n",
       "      <th>664</th>\n",
       "      <td>Taeniopygia_guttata</td>\n",
       "      <td>0.72</td>\n",
       "      <td>0.45584</td>\n",
       "      <td>135.98</td>\n",
       "    </tr>\n",
       "    <tr>\n",
       "      <th>665</th>\n",
       "      <td>Taeniopygia_guttata</td>\n",
       "      <td>1.08</td>\n",
       "      <td>0.45584</td>\n",
       "      <td>135.98</td>\n",
       "    </tr>\n",
       "    <tr>\n",
       "      <th>666</th>\n",
       "      <td>Taeniopygia_guttata</td>\n",
       "      <td>1.16</td>\n",
       "      <td>0.45584</td>\n",
       "      <td>135.98</td>\n",
       "    </tr>\n",
       "    <tr>\n",
       "      <th>667</th>\n",
       "      <td>Taeniopygia_guttata</td>\n",
       "      <td>1.00</td>\n",
       "      <td>0.45584</td>\n",
       "      <td>135.98</td>\n",
       "    </tr>\n",
       "    <tr>\n",
       "      <th>668</th>\n",
       "      <td>Taeniopygia_guttata</td>\n",
       "      <td>0.76</td>\n",
       "      <td>0.45584</td>\n",
       "      <td>135.98</td>\n",
       "    </tr>\n",
       "  </tbody>\n",
       "</table>\n",
       "<p>669 rows × 4 columns</p>\n",
       "</div>"
      ],
      "text/plain": [
       "                 Species    YD   BrainW       NN\n",
       "0    Psittacula_eupatria  1.55  5.73944  1096.26\n",
       "1    Psittacula_eupatria  1.09  5.73944  1096.26\n",
       "2    Psittacula_eupatria  1.40  5.73944  1096.26\n",
       "3    Psittacula_eupatria  1.38  5.73944  1096.26\n",
       "4    Psittacula_eupatria  1.17  5.73944  1096.26\n",
       "..                   ...   ...      ...      ...\n",
       "664  Taeniopygia_guttata  0.72  0.45584   135.98\n",
       "665  Taeniopygia_guttata  1.08  0.45584   135.98\n",
       "666  Taeniopygia_guttata  1.16  0.45584   135.98\n",
       "667  Taeniopygia_guttata  1.00  0.45584   135.98\n",
       "668  Taeniopygia_guttata  0.76  0.45584   135.98\n",
       "\n",
       "[669 rows x 4 columns]"
      ]
     },
     "execution_count": 29,
     "metadata": {},
     "output_type": "execute_result"
    }
   ],
   "source": [
    "# subset of data to filter for what we care about\n",
    "bird = bird[['Species', 'YD', 'BrainW', 'NN']]\n",
    "bird"
   ]
  },
  {
   "cell_type": "code",
   "execution_count": 31,
   "metadata": {},
   "outputs": [
    {
     "data": {
      "text/plain": [
       "Species    Cyanopica_cyanus\n",
       "YD                     0.84\n",
       "BrainW               3.0484\n",
       "NN                   740.59\n",
       "Name: 40, dtype: object"
      ]
     },
     "execution_count": 31,
     "metadata": {},
     "output_type": "execute_result"
    }
   ],
   "source": [
    "# view data for one row\n",
    "bird.iloc[40]"
   ]
  },
  {
   "cell_type": "code",
   "execution_count": 36,
   "metadata": {},
   "outputs": [
    {
     "data": {
      "text/html": [
       "<div>\n",
       "<style scoped>\n",
       "    .dataframe tbody tr th:only-of-type {\n",
       "        vertical-align: middle;\n",
       "    }\n",
       "\n",
       "    .dataframe tbody tr th {\n",
       "        vertical-align: top;\n",
       "    }\n",
       "\n",
       "    .dataframe thead th {\n",
       "        text-align: right;\n",
       "    }\n",
       "</style>\n",
       "<table border=\"1\" class=\"dataframe\">\n",
       "  <thead>\n",
       "    <tr style=\"text-align: right;\">\n",
       "      <th></th>\n",
       "      <th>BrainW</th>\n",
       "      <th>NN</th>\n",
       "    </tr>\n",
       "  </thead>\n",
       "  <tbody>\n",
       "    <tr>\n",
       "      <th>50</th>\n",
       "      <td>6.710455</td>\n",
       "      <td>689.54</td>\n",
       "    </tr>\n",
       "    <tr>\n",
       "      <th>51</th>\n",
       "      <td>6.710455</td>\n",
       "      <td>689.54</td>\n",
       "    </tr>\n",
       "    <tr>\n",
       "      <th>52</th>\n",
       "      <td>6.710455</td>\n",
       "      <td>689.54</td>\n",
       "    </tr>\n",
       "    <tr>\n",
       "      <th>53</th>\n",
       "      <td>6.710455</td>\n",
       "      <td>689.54</td>\n",
       "    </tr>\n",
       "    <tr>\n",
       "      <th>54</th>\n",
       "      <td>6.710455</td>\n",
       "      <td>689.54</td>\n",
       "    </tr>\n",
       "    <tr>\n",
       "      <th>55</th>\n",
       "      <td>6.710455</td>\n",
       "      <td>689.54</td>\n",
       "    </tr>\n",
       "    <tr>\n",
       "      <th>56</th>\n",
       "      <td>6.710455</td>\n",
       "      <td>689.54</td>\n",
       "    </tr>\n",
       "    <tr>\n",
       "      <th>57</th>\n",
       "      <td>6.710455</td>\n",
       "      <td>689.54</td>\n",
       "    </tr>\n",
       "    <tr>\n",
       "      <th>58</th>\n",
       "      <td>6.710455</td>\n",
       "      <td>689.54</td>\n",
       "    </tr>\n",
       "    <tr>\n",
       "      <th>59</th>\n",
       "      <td>6.710455</td>\n",
       "      <td>689.54</td>\n",
       "    </tr>\n",
       "    <tr>\n",
       "      <th>60</th>\n",
       "      <td>6.710455</td>\n",
       "      <td>689.54</td>\n",
       "    </tr>\n",
       "    <tr>\n",
       "      <th>61</th>\n",
       "      <td>6.710455</td>\n",
       "      <td>689.54</td>\n",
       "    </tr>\n",
       "    <tr>\n",
       "      <th>62</th>\n",
       "      <td>6.710455</td>\n",
       "      <td>689.54</td>\n",
       "    </tr>\n",
       "    <tr>\n",
       "      <th>63</th>\n",
       "      <td>18.730880</td>\n",
       "      <td>3135.79</td>\n",
       "    </tr>\n",
       "    <tr>\n",
       "      <th>64</th>\n",
       "      <td>18.730880</td>\n",
       "      <td>3135.79</td>\n",
       "    </tr>\n",
       "    <tr>\n",
       "      <th>65</th>\n",
       "      <td>18.730880</td>\n",
       "      <td>3135.79</td>\n",
       "    </tr>\n",
       "    <tr>\n",
       "      <th>66</th>\n",
       "      <td>18.730880</td>\n",
       "      <td>3135.79</td>\n",
       "    </tr>\n",
       "    <tr>\n",
       "      <th>67</th>\n",
       "      <td>18.730880</td>\n",
       "      <td>3135.79</td>\n",
       "    </tr>\n",
       "    <tr>\n",
       "      <th>68</th>\n",
       "      <td>18.730880</td>\n",
       "      <td>3135.79</td>\n",
       "    </tr>\n",
       "    <tr>\n",
       "      <th>69</th>\n",
       "      <td>18.730880</td>\n",
       "      <td>3135.79</td>\n",
       "    </tr>\n",
       "  </tbody>\n",
       "</table>\n",
       "</div>"
      ],
      "text/plain": [
       "       BrainW       NN\n",
       "50   6.710455   689.54\n",
       "51   6.710455   689.54\n",
       "52   6.710455   689.54\n",
       "53   6.710455   689.54\n",
       "54   6.710455   689.54\n",
       "55   6.710455   689.54\n",
       "56   6.710455   689.54\n",
       "57   6.710455   689.54\n",
       "58   6.710455   689.54\n",
       "59   6.710455   689.54\n",
       "60   6.710455   689.54\n",
       "61   6.710455   689.54\n",
       "62   6.710455   689.54\n",
       "63  18.730880  3135.79\n",
       "64  18.730880  3135.79\n",
       "65  18.730880  3135.79\n",
       "66  18.730880  3135.79\n",
       "67  18.730880  3135.79\n",
       "68  18.730880  3135.79\n",
       "69  18.730880  3135.79"
      ]
     },
     "execution_count": 36,
     "metadata": {},
     "output_type": "execute_result"
    }
   ],
   "source": [
    "# view specific data by column index number\n",
    "bird.iloc[50:70, 2:4]"
   ]
  },
  {
   "cell_type": "code",
   "execution_count": 37,
   "metadata": {},
   "outputs": [
    {
     "data": {
      "text/html": [
       "<div>\n",
       "<style scoped>\n",
       "    .dataframe tbody tr th:only-of-type {\n",
       "        vertical-align: middle;\n",
       "    }\n",
       "\n",
       "    .dataframe tbody tr th {\n",
       "        vertical-align: top;\n",
       "    }\n",
       "\n",
       "    .dataframe thead th {\n",
       "        text-align: right;\n",
       "    }\n",
       "</style>\n",
       "<table border=\"1\" class=\"dataframe\">\n",
       "  <thead>\n",
       "    <tr style=\"text-align: right;\">\n",
       "      <th></th>\n",
       "      <th>YD</th>\n",
       "      <th>BrainW</th>\n",
       "      <th>NN</th>\n",
       "    </tr>\n",
       "  </thead>\n",
       "  <tbody>\n",
       "    <tr>\n",
       "      <th>count</th>\n",
       "      <td>669.000000</td>\n",
       "      <td>669.000000</td>\n",
       "      <td>534.000000</td>\n",
       "    </tr>\n",
       "    <tr>\n",
       "      <th>mean</th>\n",
       "      <td>1.460045</td>\n",
       "      <td>8.886501</td>\n",
       "      <td>1101.442341</td>\n",
       "    </tr>\n",
       "    <tr>\n",
       "      <th>std</th>\n",
       "      <td>0.801977</td>\n",
       "      <td>8.107943</td>\n",
       "      <td>917.601227</td>\n",
       "    </tr>\n",
       "    <tr>\n",
       "      <th>min</th>\n",
       "      <td>0.440000</td>\n",
       "      <td>0.455840</td>\n",
       "      <td>87.880000</td>\n",
       "    </tr>\n",
       "    <tr>\n",
       "      <th>25%</th>\n",
       "      <td>0.900000</td>\n",
       "      <td>2.514027</td>\n",
       "      <td>452.770000</td>\n",
       "    </tr>\n",
       "    <tr>\n",
       "      <th>50%</th>\n",
       "      <td>1.240000</td>\n",
       "      <td>5.739440</td>\n",
       "      <td>738.230000</td>\n",
       "    </tr>\n",
       "    <tr>\n",
       "      <th>75%</th>\n",
       "      <td>1.810000</td>\n",
       "      <td>15.059673</td>\n",
       "      <td>1565.930000</td>\n",
       "    </tr>\n",
       "    <tr>\n",
       "      <th>max</th>\n",
       "      <td>7.150000</td>\n",
       "      <td>41.607273</td>\n",
       "      <td>3135.790000</td>\n",
       "    </tr>\n",
       "  </tbody>\n",
       "</table>\n",
       "</div>"
      ],
      "text/plain": [
       "               YD      BrainW           NN\n",
       "count  669.000000  669.000000   534.000000\n",
       "mean     1.460045    8.886501  1101.442341\n",
       "std      0.801977    8.107943   917.601227\n",
       "min      0.440000    0.455840    87.880000\n",
       "25%      0.900000    2.514027   452.770000\n",
       "50%      1.240000    5.739440   738.230000\n",
       "75%      1.810000   15.059673  1565.930000\n",
       "max      7.150000   41.607273  3135.790000"
      ]
     },
     "execution_count": 37,
     "metadata": {},
     "output_type": "execute_result"
    }
   ],
   "source": [
    "bird.describe()"
   ]
  },
  {
   "cell_type": "code",
   "execution_count": 38,
   "metadata": {},
   "outputs": [
    {
     "data": {
      "text/html": [
       "<div>\n",
       "<style scoped>\n",
       "    .dataframe tbody tr th:only-of-type {\n",
       "        vertical-align: middle;\n",
       "    }\n",
       "\n",
       "    .dataframe tbody tr th {\n",
       "        vertical-align: top;\n",
       "    }\n",
       "\n",
       "    .dataframe thead th {\n",
       "        text-align: right;\n",
       "    }\n",
       "</style>\n",
       "<table border=\"1\" class=\"dataframe\">\n",
       "  <thead>\n",
       "    <tr style=\"text-align: right;\">\n",
       "      <th></th>\n",
       "      <th>YD</th>\n",
       "      <th>BrainW</th>\n",
       "      <th>NN</th>\n",
       "    </tr>\n",
       "  </thead>\n",
       "  <tbody>\n",
       "    <tr>\n",
       "      <th>YD</th>\n",
       "      <td>1.000000</td>\n",
       "      <td>0.243714</td>\n",
       "      <td>0.250221</td>\n",
       "    </tr>\n",
       "    <tr>\n",
       "      <th>BrainW</th>\n",
       "      <td>0.243714</td>\n",
       "      <td>1.000000</td>\n",
       "      <td>0.718141</td>\n",
       "    </tr>\n",
       "    <tr>\n",
       "      <th>NN</th>\n",
       "      <td>0.250221</td>\n",
       "      <td>0.718141</td>\n",
       "      <td>1.000000</td>\n",
       "    </tr>\n",
       "  </tbody>\n",
       "</table>\n",
       "</div>"
      ],
      "text/plain": [
       "              YD    BrainW        NN\n",
       "YD      1.000000  0.243714  0.250221\n",
       "BrainW  0.243714  1.000000  0.718141\n",
       "NN      0.250221  0.718141  1.000000"
      ]
     },
     "execution_count": 38,
     "metadata": {},
     "output_type": "execute_result"
    }
   ],
   "source": [
    "bird.corr()"
   ]
  },
  {
   "cell_type": "code",
   "execution_count": 40,
   "metadata": {},
   "outputs": [
    {
     "data": {
      "text/plain": [
       "<AxesSubplot:ylabel='Frequency'>"
      ]
     },
     "execution_count": 40,
     "metadata": {},
     "output_type": "execute_result"
    },
    {
     "data": {
      "image/png": "[encoded data removed]",
      "text/plain": [
       "<Figure size 432x288 with 1 Axes>"
      ]
     },
     "metadata": {
      "needs_background": "light"
     },
     "output_type": "display_data"
    }
   ],
   "source": [
    "bird.plot(kind = 'hist', y = 'BrainW')"
   ]
  },
  {
   "cell_type": "code",
   "execution_count": 45,
   "metadata": {},
   "outputs": [
    {
     "data": {
      "text/plain": [
       "<AxesSubplot:ylabel='Frequency'>"
      ]
     },
     "execution_count": 45,
     "metadata": {},
     "output_type": "execute_result"
    },
    {
     "data": {
      "image/png": "[encoded data removed]",
      "text/plain": [
       "<Figure size 432x288 with 1 Axes>"
      ]
     },
     "metadata": {
      "needs_background": "light"
     },
     "output_type": "display_data"
    }
   ],
   "source": [
    "bird.plot(kind = 'hist', y = 'NN')"
   ]
  },
  {
   "cell_type": "code",
   "execution_count": 70,
   "metadata": {},
   "outputs": [
    {
     "data": {
      "text/plain": [
       "<AxesSubplot:xlabel='YD', ylabel='BrainW'>"
      ]
     },
     "execution_count": 70,
     "metadata": {},
     "output_type": "execute_result"
    },
    {
     "data": {
      "image/png": "[encoded data removed]",
      "text/plain": [
       "<Figure size 432x288 with 1 Axes>"
      ]
     },
     "metadata": {
      "needs_background": "light"
     },
     "output_type": "display_data"
    }
   ],
   "source": [
    "bird.plot(kind = 'scatter',x='YD',y='BrainW')"
   ]
  },
  {
   "cell_type": "code",
   "execution_count": 69,
   "metadata": {},
   "outputs": [
    {
     "data": {
      "text/plain": [
       "F_onewayResult(statistic=555.8269716697886, pvalue=4.853778768214209e-103)"
      ]
     },
     "execution_count": 69,
     "metadata": {},
     "output_type": "execute_result"
    }
   ],
   "source": [
    "import scipy.stats as stats\n",
    "stats.f_oneway(bird['BrainW'],bird['YD'])"
   ]
  },
  {
   "cell_type": "code",
   "execution_count": 63,
   "metadata": {},
   "outputs": [
    {
     "data": {
      "text/html": [
       "<div>\n",
       "<style scoped>\n",
       "    .dataframe tbody tr th:only-of-type {\n",
       "        vertical-align: middle;\n",
       "    }\n",
       "\n",
       "    .dataframe tbody tr th {\n",
       "        vertical-align: top;\n",
       "    }\n",
       "\n",
       "    .dataframe thead th {\n",
       "        text-align: right;\n",
       "    }\n",
       "</style>\n",
       "<table border=\"1\" class=\"dataframe\">\n",
       "  <thead>\n",
       "    <tr style=\"text-align: right;\">\n",
       "      <th></th>\n",
       "      <th>Species</th>\n",
       "      <th>YD</th>\n",
       "      <th>BrainW</th>\n",
       "    </tr>\n",
       "  </thead>\n",
       "  <tbody>\n",
       "    <tr>\n",
       "      <th>0</th>\n",
       "      <td>Camelus_bactrianus</td>\n",
       "      <td>7.48</td>\n",
       "      <td>601.0</td>\n",
       "    </tr>\n",
       "    <tr>\n",
       "      <th>1</th>\n",
       "      <td>Camelus_bactrianus</td>\n",
       "      <td>6.27</td>\n",
       "      <td>601.0</td>\n",
       "    </tr>\n",
       "    <tr>\n",
       "      <th>2</th>\n",
       "      <td>Camelus_bactrianus</td>\n",
       "      <td>4.81</td>\n",
       "      <td>601.0</td>\n",
       "    </tr>\n",
       "    <tr>\n",
       "      <th>3</th>\n",
       "      <td>Camelus_bactrianus</td>\n",
       "      <td>8.09</td>\n",
       "      <td>601.0</td>\n",
       "    </tr>\n",
       "    <tr>\n",
       "      <th>4</th>\n",
       "      <td>Mungos_mungo</td>\n",
       "      <td>1.87</td>\n",
       "      <td>10.7</td>\n",
       "    </tr>\n",
       "    <tr>\n",
       "      <th>...</th>\n",
       "      <td>...</td>\n",
       "      <td>...</td>\n",
       "      <td>...</td>\n",
       "    </tr>\n",
       "    <tr>\n",
       "      <th>617</th>\n",
       "      <td>Felis_silvestris</td>\n",
       "      <td>2.66</td>\n",
       "      <td>37.5</td>\n",
       "    </tr>\n",
       "    <tr>\n",
       "      <th>618</th>\n",
       "      <td>Canis_lupus</td>\n",
       "      <td>2.88</td>\n",
       "      <td>138.0</td>\n",
       "    </tr>\n",
       "    <tr>\n",
       "      <th>619</th>\n",
       "      <td>Canis_lupus</td>\n",
       "      <td>4.69</td>\n",
       "      <td>138.0</td>\n",
       "    </tr>\n",
       "    <tr>\n",
       "      <th>620</th>\n",
       "      <td>Canis_lupus</td>\n",
       "      <td>1.92</td>\n",
       "      <td>138.0</td>\n",
       "    </tr>\n",
       "    <tr>\n",
       "      <th>621</th>\n",
       "      <td>Canis_lupus</td>\n",
       "      <td>3.10</td>\n",
       "      <td>138.0</td>\n",
       "    </tr>\n",
       "  </tbody>\n",
       "</table>\n",
       "<p>622 rows × 3 columns</p>\n",
       "</div>"
      ],
      "text/plain": [
       "                Species    YD  BrainW\n",
       "0    Camelus_bactrianus  7.48   601.0\n",
       "1    Camelus_bactrianus  6.27   601.0\n",
       "2    Camelus_bactrianus  4.81   601.0\n",
       "3    Camelus_bactrianus  8.09   601.0\n",
       "4          Mungos_mungo  1.87    10.7\n",
       "..                  ...   ...     ...\n",
       "617    Felis_silvestris  2.66    37.5\n",
       "618         Canis_lupus  2.88   138.0\n",
       "619         Canis_lupus  4.69   138.0\n",
       "620         Canis_lupus  1.92   138.0\n",
       "621         Canis_lupus  3.10   138.0\n",
       "\n",
       "[622 rows x 3 columns]"
      ]
     },
     "execution_count": 63,
     "metadata": {},
     "output_type": "execute_result"
    }
   ],
   "source": [
    "# subset of data to filter for what we care about\n",
    "mammal = mammal[['Species', 'YD', 'BrainW']]\n",
    "mammal"
   ]
  },
  {
   "cell_type": "code",
   "execution_count": 64,
   "metadata": {},
   "outputs": [
    {
     "data": {
      "text/html": [
       "<div>\n",
       "<style scoped>\n",
       "    .dataframe tbody tr th:only-of-type {\n",
       "        vertical-align: middle;\n",
       "    }\n",
       "\n",
       "    .dataframe tbody tr th {\n",
       "        vertical-align: top;\n",
       "    }\n",
       "\n",
       "    .dataframe thead th {\n",
       "        text-align: right;\n",
       "    }\n",
       "</style>\n",
       "<table border=\"1\" class=\"dataframe\">\n",
       "  <thead>\n",
       "    <tr style=\"text-align: right;\">\n",
       "      <th></th>\n",
       "      <th>YD</th>\n",
       "      <th>BrainW</th>\n",
       "    </tr>\n",
       "  </thead>\n",
       "  <tbody>\n",
       "    <tr>\n",
       "      <th>YD</th>\n",
       "      <td>1.0000</td>\n",
       "      <td>0.5808</td>\n",
       "    </tr>\n",
       "    <tr>\n",
       "      <th>BrainW</th>\n",
       "      <td>0.5808</td>\n",
       "      <td>1.0000</td>\n",
       "    </tr>\n",
       "  </tbody>\n",
       "</table>\n",
       "</div>"
      ],
      "text/plain": [
       "            YD  BrainW\n",
       "YD      1.0000  0.5808\n",
       "BrainW  0.5808  1.0000"
      ]
     },
     "execution_count": 64,
     "metadata": {},
     "output_type": "execute_result"
    }
   ],
   "source": [
    "mammal.corr()"
   ]
  },
  {
   "cell_type": "code",
   "execution_count": 66,
   "metadata": {},
   "outputs": [
    {
     "data": {
      "text/plain": [
       "<AxesSubplot:xlabel='YD', ylabel='BrainW'>"
      ]
     },
     "execution_count": 66,
     "metadata": {},
     "output_type": "execute_result"
    },
    {
     "data": {
      "image/png": "[encoded data removed]",
      "text/plain": [
       "<Figure size 432x288 with 1 Axes>"
      ]
     },
     "metadata": {
      "needs_background": "light"
     },
     "output_type": "display_data"
    }
   ],
   "source": [
    "mammal.plot(kind = 'scatter',x='YD',y='BrainW')"
   ]
  },
  {
   "cell_type": "code",
   "execution_count": 67,
   "metadata": {},
   "outputs": [
    {
     "data": {
      "text/plain": [
       "F_onewayResult(statistic=373.0852120992466, pvalue=6.791619666722283e-73)"
      ]
     },
     "execution_count": 67,
     "metadata": {},
     "output_type": "execute_result"
    }
   ],
   "source": [
    "stats.f_oneway(mammal['BrainW'],mammal['YD'])"
   ]
  },
  {
   "cell_type": "code",
   "execution_count": null,
   "metadata": {},
   "outputs": [],
   "source": []
  }
 ],
 "metadata": {
  "kernelspec": {
   "display_name": "Python 3",
   "language": "python",
   "name": "python3"
  },
  "language_info": {
   "codemirror_mode": {
    "name": "ipython",
    "version": 3
   },
   "file_extension": ".py",
   "mimetype": "text/x-python",
   "name": "python",
   "nbconvert_exporter": "python",
   "pygments_lexer": "ipython3",
   "version": "3.8.5"
  }
 },
 "nbformat": 4,
 "nbformat_minor": 4
}
